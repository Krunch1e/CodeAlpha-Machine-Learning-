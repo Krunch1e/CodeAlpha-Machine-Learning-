{
 "cells": [
  {
   "cell_type": "markdown",
   "id": "3e9c5d9d",
   "metadata": {
    "papermill": {
     "duration": 0.00558,
     "end_time": "2024-09-14T17:31:20.462444",
     "exception": false,
     "start_time": "2024-09-14T17:31:20.456864",
     "status": "completed"
    },
    "tags": []
   },
   "source": [
    "## Imports"
   ]
  },
  {
   "cell_type": "code",
   "execution_count": 1,
   "id": "2032b45c",
   "metadata": {
    "_cell_guid": "b1076dfc-b9ad-4769-8c92-a6c4dae69d19",
    "_uuid": "8f2839f25d086af736a60e9eeb907d3b93b6e0e5",
    "execution": {
     "iopub.execute_input": "2024-09-14T17:31:20.473207Z",
     "iopub.status.busy": "2024-09-14T17:31:20.472847Z",
     "iopub.status.idle": "2024-09-14T17:31:34.853708Z",
     "shell.execute_reply": "2024-09-14T17:31:34.852880Z"
    },
    "papermill": {
     "duration": 14.38897,
     "end_time": "2024-09-14T17:31:34.856153",
     "exception": false,
     "start_time": "2024-09-14T17:31:20.467183",
     "status": "completed"
    },
    "tags": []
   },
   "outputs": [],
   "source": [
    "import warnings\n",
    "warnings.filterwarnings(\"ignore\")\n",
    "import pandas as pd\n",
    "import numpy as np\n",
    "import glob\n",
    "import cv2\n",
    "import tensorflow as tf\n",
    "from sklearn.metrics import accuracy_score, precision_score, recall_score, f1_score, confusion_matrix\n",
    "from tensorflow.keras.models import Sequential\n",
    "from sklearn.model_selection import train_test_split\n",
    "from sklearn.preprocessing import LabelEncoder\n",
    "from tensorflow.keras.layers import *"
   ]
  },
  {
   "cell_type": "markdown",
   "id": "7aa97f2f",
   "metadata": {
    "papermill": {
     "duration": 0.004348,
     "end_time": "2024-09-14T17:31:34.865505",
     "exception": false,
     "start_time": "2024-09-14T17:31:34.861157",
     "status": "completed"
    },
    "tags": []
   },
   "source": [
    "## Loading Image Files from Dataset Directory"
   ]
  },
  {
   "cell_type": "code",
   "execution_count": 2,
   "id": "51ceb4aa",
   "metadata": {
    "execution": {
     "iopub.execute_input": "2024-09-14T17:31:34.876045Z",
     "iopub.status.busy": "2024-09-14T17:31:34.875477Z",
     "iopub.status.idle": "2024-09-14T17:31:35.444845Z",
     "shell.execute_reply": "2024-09-14T17:31:35.443912Z"
    },
    "papermill": {
     "duration": 0.576982,
     "end_time": "2024-09-14T17:31:35.447069",
     "exception": false,
     "start_time": "2024-09-14T17:31:34.870087",
     "status": "completed"
    },
    "tags": []
   },
   "outputs": [
    {
     "data": {
      "text/html": [
       "<div>\n",
       "<style scoped>\n",
       "    .dataframe tbody tr th:only-of-type {\n",
       "        vertical-align: middle;\n",
       "    }\n",
       "\n",
       "    .dataframe tbody tr th {\n",
       "        vertical-align: top;\n",
       "    }\n",
       "\n",
       "    .dataframe thead th {\n",
       "        text-align: right;\n",
       "    }\n",
       "</style>\n",
       "<table border=\"1\" class=\"dataframe\">\n",
       "  <thead>\n",
       "    <tr style=\"text-align: right;\">\n",
       "      <th></th>\n",
       "      <th>image</th>\n",
       "      <th>label</th>\n",
       "    </tr>\n",
       "  </thead>\n",
       "  <tbody>\n",
       "    <tr>\n",
       "      <th>0</th>\n",
       "      <td>Img/img001-001.png</td>\n",
       "      <td>0</td>\n",
       "    </tr>\n",
       "    <tr>\n",
       "      <th>1</th>\n",
       "      <td>Img/img001-002.png</td>\n",
       "      <td>0</td>\n",
       "    </tr>\n",
       "    <tr>\n",
       "      <th>2</th>\n",
       "      <td>Img/img001-003.png</td>\n",
       "      <td>0</td>\n",
       "    </tr>\n",
       "    <tr>\n",
       "      <th>3</th>\n",
       "      <td>Img/img001-004.png</td>\n",
       "      <td>0</td>\n",
       "    </tr>\n",
       "    <tr>\n",
       "      <th>4</th>\n",
       "      <td>Img/img001-005.png</td>\n",
       "      <td>0</td>\n",
       "    </tr>\n",
       "    <tr>\n",
       "      <th>5</th>\n",
       "      <td>Img/img001-006.png</td>\n",
       "      <td>0</td>\n",
       "    </tr>\n",
       "  </tbody>\n",
       "</table>\n",
       "</div>"
      ],
      "text/plain": [
       "                image label\n",
       "0  Img/img001-001.png     0\n",
       "1  Img/img001-002.png     0\n",
       "2  Img/img001-003.png     0\n",
       "3  Img/img001-004.png     0\n",
       "4  Img/img001-005.png     0\n",
       "5  Img/img001-006.png     0"
      ]
     },
     "execution_count": 2,
     "metadata": {},
     "output_type": "execute_result"
    }
   ],
   "source": [
    "# Loading imgs \n",
    "imgs=glob.glob('/kaggle/input/english-handwritten-characters-dataset/Img/*')\n",
    "\n",
    "# Loading csv file\n",
    "df = pd.read_csv(\"/kaggle/input/english-handwritten-characters-dataset/english.csv\")\n",
    "df.head(6)"
   ]
  },
  {
   "cell_type": "markdown",
   "id": "2bcff7d8",
   "metadata": {
    "papermill": {
     "duration": 0.004739,
     "end_time": "2024-09-14T17:31:35.457013",
     "exception": false,
     "start_time": "2024-09-14T17:31:35.452274",
     "status": "completed"
    },
    "tags": []
   },
   "source": [
    "## Data Preparation and Preprocessing for Image Classification Model"
   ]
  },
  {
   "cell_type": "code",
   "execution_count": 3,
   "id": "1ad59a98",
   "metadata": {
    "execution": {
     "iopub.execute_input": "2024-09-14T17:31:35.468591Z",
     "iopub.status.busy": "2024-09-14T17:31:35.467759Z",
     "iopub.status.idle": "2024-09-14T17:32:48.111606Z",
     "shell.execute_reply": "2024-09-14T17:32:48.110561Z"
    },
    "papermill": {
     "duration": 72.652202,
     "end_time": "2024-09-14T17:32:48.114214",
     "exception": false,
     "start_time": "2024-09-14T17:31:35.462012",
     "status": "completed"
    },
    "tags": []
   },
   "outputs": [],
   "source": [
    "new_imgs = sorted(imgs)\n",
    "\n",
    "labels = df['label'].tolist()\n",
    "\n",
    "new_data = []\n",
    "for i in new_imgs:\n",
    "    img = cv2.imread(i, 1)\n",
    "    img = cv2.resize(img, (64, 64))\n",
    "    new_data.append(img)\n",
    "new_data = np.array(new_data)\n",
    "\n",
    "labels = np.array(labels)\n",
    "\n",
    "Encoder = LabelEncoder()\n",
    "labels = Encoder.fit_transform(labels)\n",
    "\n",
    "train_images, test_images, train_labels, test_labels = train_test_split(new_data, labels, test_size=0.2, random_state=42)\n",
    "\n",
    "train_images = train_images / 255.0\n",
    "test_images = test_images / 255.0"
   ]
  },
  {
   "cell_type": "markdown",
   "id": "93ae2f2b",
   "metadata": {
    "papermill": {
     "duration": 0.004444,
     "end_time": "2024-09-14T17:32:48.124001",
     "exception": false,
     "start_time": "2024-09-14T17:32:48.119557",
     "status": "completed"
    },
    "tags": []
   },
   "source": [
    "## Building Model"
   ]
  },
  {
   "cell_type": "code",
   "execution_count": 4,
   "id": "2e383886",
   "metadata": {
    "execution": {
     "iopub.execute_input": "2024-09-14T17:32:48.135075Z",
     "iopub.status.busy": "2024-09-14T17:32:48.134366Z",
     "iopub.status.idle": "2024-09-14T17:33:40.654760Z",
     "shell.execute_reply": "2024-09-14T17:33:40.653771Z"
    },
    "papermill": {
     "duration": 52.528021,
     "end_time": "2024-09-14T17:33:40.656688",
     "exception": false,
     "start_time": "2024-09-14T17:32:48.128667",
     "status": "completed"
    },
    "tags": []
   },
   "outputs": [
    {
     "name": "stdout",
     "output_type": "stream",
     "text": [
      "Epoch 1/25\n"
     ]
    },
    {
     "name": "stderr",
     "output_type": "stream",
     "text": [
      "WARNING: All log messages before absl::InitializeLog() is called are written to STDERR\n",
      "I0000 00:00:1726335171.531132      66 service.cc:145] XLA service 0x7d38380035b0 initialized for platform CUDA (this does not guarantee that XLA will be used). Devices:\n",
      "I0000 00:00:1726335171.531190      66 service.cc:153]   StreamExecutor device (0): Tesla P100-PCIE-16GB, Compute Capability 6.0\n"
     ]
    },
    {
     "name": "stdout",
     "output_type": "stream",
     "text": [
      "\u001b[1m 7/69\u001b[0m \u001b[32m━━\u001b[0m\u001b[37m━━━━━━━━━━━━━━━━━━\u001b[0m \u001b[1m1s\u001b[0m 22ms/step - accuracy: 0.0108 - loss: 4.3793"
     ]
    },
    {
     "name": "stderr",
     "output_type": "stream",
     "text": [
      "I0000 00:00:1726335176.309201      66 device_compiler.h:188] Compiled cluster using XLA!  This line is logged at most once for the lifetime of the process.\n"
     ]
    },
    {
     "name": "stdout",
     "output_type": "stream",
     "text": [
      "\u001b[1m69/69\u001b[0m \u001b[32m━━━━━━━━━━━━━━━━━━━━\u001b[0m\u001b[37m\u001b[0m \u001b[1m12s\u001b[0m 70ms/step - accuracy: 0.0116 - loss: 4.2553 - val_accuracy: 0.0275 - val_loss: 4.0570\n",
      "Epoch 2/25\n",
      "\u001b[1m69/69\u001b[0m \u001b[32m━━━━━━━━━━━━━━━━━━━━\u001b[0m\u001b[37m\u001b[0m \u001b[1m2s\u001b[0m 24ms/step - accuracy: 0.0797 - loss: 3.8151 - val_accuracy: 0.1374 - val_loss: 3.2607\n",
      "Epoch 3/25\n",
      "\u001b[1m69/69\u001b[0m \u001b[32m━━━━━━━━━━━━━━━━━━━━\u001b[0m\u001b[37m\u001b[0m \u001b[1m2s\u001b[0m 23ms/step - accuracy: 0.1894 - loss: 3.0356 - val_accuracy: 0.2125 - val_loss: 2.9044\n",
      "Epoch 4/25\n",
      "\u001b[1m69/69\u001b[0m \u001b[32m━━━━━━━━━━━━━━━━━━━━\u001b[0m\u001b[37m\u001b[0m \u001b[1m2s\u001b[0m 23ms/step - accuracy: 0.2804 - loss: 2.6181 - val_accuracy: 0.3443 - val_loss: 2.4207\n",
      "Epoch 5/25\n",
      "\u001b[1m69/69\u001b[0m \u001b[32m━━━━━━━━━━━━━━━━━━━━\u001b[0m\u001b[37m\u001b[0m \u001b[1m2s\u001b[0m 23ms/step - accuracy: 0.4324 - loss: 2.0218 - val_accuracy: 0.4487 - val_loss: 1.9973\n",
      "Epoch 6/25\n",
      "\u001b[1m69/69\u001b[0m \u001b[32m━━━━━━━━━━━━━━━━━━━━\u001b[0m\u001b[37m\u001b[0m \u001b[1m2s\u001b[0m 23ms/step - accuracy: 0.5844 - loss: 1.4692 - val_accuracy: 0.5275 - val_loss: 1.6957\n",
      "Epoch 7/25\n",
      "\u001b[1m69/69\u001b[0m \u001b[32m━━━━━━━━━━━━━━━━━━━━\u001b[0m\u001b[37m\u001b[0m \u001b[1m2s\u001b[0m 23ms/step - accuracy: 0.7411 - loss: 1.0159 - val_accuracy: 0.5971 - val_loss: 1.4876\n",
      "Epoch 8/25\n",
      "\u001b[1m69/69\u001b[0m \u001b[32m━━━━━━━━━━━━━━━━━━━━\u001b[0m\u001b[37m\u001b[0m \u001b[1m2s\u001b[0m 23ms/step - accuracy: 0.7815 - loss: 0.7482 - val_accuracy: 0.6209 - val_loss: 1.3034\n",
      "Epoch 9/25\n",
      "\u001b[1m69/69\u001b[0m \u001b[32m━━━━━━━━━━━━━━━━━━━━\u001b[0m\u001b[37m\u001b[0m \u001b[1m2s\u001b[0m 24ms/step - accuracy: 0.8550 - loss: 0.5347 - val_accuracy: 0.6538 - val_loss: 1.2795\n",
      "Epoch 10/25\n",
      "\u001b[1m69/69\u001b[0m \u001b[32m━━━━━━━━━━━━━━━━━━━━\u001b[0m\u001b[37m\u001b[0m \u001b[1m2s\u001b[0m 24ms/step - accuracy: 0.8782 - loss: 0.4561 - val_accuracy: 0.6410 - val_loss: 1.3314\n",
      "Epoch 11/25\n",
      "\u001b[1m69/69\u001b[0m \u001b[32m━━━━━━━━━━━━━━━━━━━━\u001b[0m\u001b[37m\u001b[0m \u001b[1m2s\u001b[0m 23ms/step - accuracy: 0.8858 - loss: 0.4337 - val_accuracy: 0.6923 - val_loss: 1.1340\n",
      "Epoch 12/25\n",
      "\u001b[1m69/69\u001b[0m \u001b[32m━━━━━━━━━━━━━━━━━━━━\u001b[0m\u001b[37m\u001b[0m \u001b[1m2s\u001b[0m 24ms/step - accuracy: 0.9324 - loss: 0.2536 - val_accuracy: 0.6868 - val_loss: 1.1316\n",
      "Epoch 13/25\n",
      "\u001b[1m69/69\u001b[0m \u001b[32m━━━━━━━━━━━━━━━━━━━━\u001b[0m\u001b[37m\u001b[0m \u001b[1m2s\u001b[0m 23ms/step - accuracy: 0.9569 - loss: 0.1990 - val_accuracy: 0.7051 - val_loss: 1.1149\n",
      "Epoch 14/25\n",
      "\u001b[1m69/69\u001b[0m \u001b[32m━━━━━━━━━━━━━━━━━━━━\u001b[0m\u001b[37m\u001b[0m \u001b[1m2s\u001b[0m 23ms/step - accuracy: 0.9573 - loss: 0.1627 - val_accuracy: 0.6941 - val_loss: 1.1452\n",
      "Epoch 15/25\n",
      "\u001b[1m69/69\u001b[0m \u001b[32m━━━━━━━━━━━━━━━━━━━━\u001b[0m\u001b[37m\u001b[0m \u001b[1m2s\u001b[0m 24ms/step - accuracy: 0.9721 - loss: 0.1119 - val_accuracy: 0.6795 - val_loss: 1.3057\n",
      "Epoch 16/25\n",
      "\u001b[1m69/69\u001b[0m \u001b[32m━━━━━━━━━━━━━━━━━━━━\u001b[0m\u001b[37m\u001b[0m \u001b[1m2s\u001b[0m 24ms/step - accuracy: 0.9570 - loss: 0.1628 - val_accuracy: 0.6484 - val_loss: 1.3216\n",
      "Epoch 17/25\n",
      "\u001b[1m69/69\u001b[0m \u001b[32m━━━━━━━━━━━━━━━━━━━━\u001b[0m\u001b[37m\u001b[0m \u001b[1m2s\u001b[0m 24ms/step - accuracy: 0.9635 - loss: 0.1616 - val_accuracy: 0.7051 - val_loss: 1.2026\n",
      "Epoch 18/25\n",
      "\u001b[1m69/69\u001b[0m \u001b[32m━━━━━━━━━━━━━━━━━━━━\u001b[0m\u001b[37m\u001b[0m \u001b[1m2s\u001b[0m 24ms/step - accuracy: 0.9743 - loss: 0.0978 - val_accuracy: 0.6868 - val_loss: 1.2910\n",
      "Epoch 19/25\n",
      "\u001b[1m69/69\u001b[0m \u001b[32m━━━━━━━━━━━━━━━━━━━━\u001b[0m\u001b[37m\u001b[0m \u001b[1m2s\u001b[0m 23ms/step - accuracy: 0.9684 - loss: 0.1082 - val_accuracy: 0.6960 - val_loss: 1.2287\n",
      "Epoch 20/25\n",
      "\u001b[1m69/69\u001b[0m \u001b[32m━━━━━━━━━━━━━━━━━━━━\u001b[0m\u001b[37m\u001b[0m \u001b[1m2s\u001b[0m 23ms/step - accuracy: 0.9823 - loss: 0.0712 - val_accuracy: 0.7253 - val_loss: 1.2177\n",
      "Epoch 21/25\n",
      "\u001b[1m69/69\u001b[0m \u001b[32m━━━━━━━━━━━━━━━━━━━━\u001b[0m\u001b[37m\u001b[0m \u001b[1m2s\u001b[0m 23ms/step - accuracy: 0.9785 - loss: 0.0782 - val_accuracy: 0.7070 - val_loss: 1.2427\n",
      "Epoch 22/25\n",
      "\u001b[1m69/69\u001b[0m \u001b[32m━━━━━━━━━━━━━━━━━━━━\u001b[0m\u001b[37m\u001b[0m \u001b[1m2s\u001b[0m 24ms/step - accuracy: 0.9866 - loss: 0.0472 - val_accuracy: 0.7106 - val_loss: 1.2644\n",
      "Epoch 23/25\n",
      "\u001b[1m69/69\u001b[0m \u001b[32m━━━━━━━━━━━━━━━━━━━━\u001b[0m\u001b[37m\u001b[0m \u001b[1m2s\u001b[0m 24ms/step - accuracy: 0.9952 - loss: 0.0290 - val_accuracy: 0.7179 - val_loss: 1.2596\n",
      "Epoch 24/25\n",
      "\u001b[1m69/69\u001b[0m \u001b[32m━━━━━━━━━━━━━━━━━━━━\u001b[0m\u001b[37m\u001b[0m \u001b[1m2s\u001b[0m 23ms/step - accuracy: 0.9950 - loss: 0.0281 - val_accuracy: 0.7179 - val_loss: 1.2963\n",
      "Epoch 25/25\n",
      "\u001b[1m69/69\u001b[0m \u001b[32m━━━━━━━━━━━━━━━━━━━━\u001b[0m\u001b[37m\u001b[0m \u001b[1m2s\u001b[0m 23ms/step - accuracy: 0.9959 - loss: 0.0219 - val_accuracy: 0.6905 - val_loss: 1.3927\n"
     ]
    },
    {
     "data": {
      "text/plain": [
       "<keras.src.callbacks.history.History at 0x7d38e2f85cc0>"
      ]
     },
     "execution_count": 4,
     "metadata": {},
     "output_type": "execute_result"
    }
   ],
   "source": [
    "model = Sequential()\n",
    "model.add(Conv2D(512,(5,5),activation='relu',input_shape=(64,64,3)))\n",
    "model.add(MaxPool2D(2,2))\n",
    "model.add(Conv2D(256,(3,3),activation='relu',input_shape=(64,64,3)))\n",
    "model.add(MaxPool2D(2,2))\n",
    "model.add(Conv2D(256,(3,3),activation='relu'))\n",
    "model.add(MaxPool2D(2,2))\n",
    "model.add(Flatten())\n",
    "model.add(Dense(512,activation='relu'))\n",
    "model.add(Dense(1024,activation='relu'))\n",
    "model.add(Dense(512,activation='relu'))\n",
    "model.add(Dense(256,activation='sigmoid'))\n",
    "model.add(Dense(62,activation='softmax'))\n",
    "model.compile(loss='sparse_categorical_crossentropy',optimizer='adam',metrics=['accuracy'])\n",
    "model.fit(train_images,train_labels,epochs=25,validation_split = 0.2)"
   ]
  },
  {
   "cell_type": "markdown",
   "id": "a92e31c0",
   "metadata": {
    "papermill": {
     "duration": 0.053736,
     "end_time": "2024-09-14T17:33:40.766787",
     "exception": false,
     "start_time": "2024-09-14T17:33:40.713051",
     "status": "completed"
    },
    "tags": []
   },
   "source": [
    "## Evaluate Model"
   ]
  },
  {
   "cell_type": "code",
   "execution_count": 5,
   "id": "56bbb9fc",
   "metadata": {
    "execution": {
     "iopub.execute_input": "2024-09-14T17:33:40.875864Z",
     "iopub.status.busy": "2024-09-14T17:33:40.875458Z",
     "iopub.status.idle": "2024-09-14T17:33:41.926866Z",
     "shell.execute_reply": "2024-09-14T17:33:41.925809Z"
    },
    "papermill": {
     "duration": 1.1087,
     "end_time": "2024-09-14T17:33:41.928942",
     "exception": false,
     "start_time": "2024-09-14T17:33:40.820242",
     "status": "completed"
    },
    "tags": []
   },
   "outputs": [
    {
     "name": "stdout",
     "output_type": "stream",
     "text": [
      "\u001b[1m22/22\u001b[0m \u001b[32m━━━━━━━━━━━━━━━━━━━━\u001b[0m\u001b[37m\u001b[0m \u001b[1m1s\u001b[0m 43ms/step - accuracy: 0.6575 - loss: 1.4587\n"
     ]
    },
    {
     "data": {
      "text/plain": [
       "[1.30936861038208, 0.6935483813285828]"
      ]
     },
     "execution_count": 5,
     "metadata": {},
     "output_type": "execute_result"
    }
   ],
   "source": [
    "model.evaluate(test_images,test_labels)"
   ]
  },
  {
   "cell_type": "markdown",
   "id": "6edb061c",
   "metadata": {
    "papermill": {
     "duration": 0.05412,
     "end_time": "2024-09-14T17:33:42.037282",
     "exception": false,
     "start_time": "2024-09-14T17:33:41.983162",
     "status": "completed"
    },
    "tags": []
   },
   "source": [
    "## Make Predictions"
   ]
  },
  {
   "cell_type": "code",
   "execution_count": 6,
   "id": "61d3450a",
   "metadata": {
    "execution": {
     "iopub.execute_input": "2024-09-14T17:33:42.149419Z",
     "iopub.status.busy": "2024-09-14T17:33:42.148644Z",
     "iopub.status.idle": "2024-09-14T17:33:43.055298Z",
     "shell.execute_reply": "2024-09-14T17:33:43.054135Z"
    },
    "papermill": {
     "duration": 0.964535,
     "end_time": "2024-09-14T17:33:43.057452",
     "exception": false,
     "start_time": "2024-09-14T17:33:42.092917",
     "status": "completed"
    },
    "tags": []
   },
   "outputs": [
    {
     "name": "stdout",
     "output_type": "stream",
     "text": [
      "\u001b[1m22/22\u001b[0m \u001b[32m━━━━━━━━━━━━━━━━━━━━\u001b[0m\u001b[37m\u001b[0m \u001b[1m1s\u001b[0m 20ms/step\n",
      "Accuracy: 0.6935483870967742\n",
      "Precision: 0.7350497111523712\n",
      "Recall: 0.6935483870967742\n",
      "F1 Score: 0.6927131887252547\n",
      "Confusion Matrix:\n",
      "[[ 4  0  0 ...  0  0  0]\n",
      " [ 0  4  0 ...  0  0  0]\n",
      " [ 0  0  7 ...  0  0  0]\n",
      " ...\n",
      " [ 0  0  0 ... 11  0  0]\n",
      " [ 0  0  0 ...  1  6  0]\n",
      " [ 0  0  0 ...  0  0 10]]\n"
     ]
    }
   ],
   "source": [
    "y_pred = model.predict(test_images)\n",
    "y_pred_labels = np.argmax(y_pred, axis=1)\n",
    "\n",
    "accuracy = accuracy_score(test_labels, y_pred_labels)\n",
    "precision = precision_score(test_labels, y_pred_labels, average='weighted')\n",
    "recall = recall_score(test_labels, y_pred_labels, average='weighted')\n",
    "f1 = f1_score(test_labels, y_pred_labels, average='weighted')\n",
    "confusion_mat = confusion_matrix(test_labels, y_pred_labels)\n",
    "\n",
    "print(\"Accuracy:\", accuracy)\n",
    "print(\"Precision:\", precision)\n",
    "print(\"Recall:\", recall)\n",
    "print(\"F1 Score:\", f1)\n",
    "print(\"Confusion Matrix:\")\n",
    "print(confusion_mat)"
   ]
  },
  {
   "cell_type": "markdown",
   "id": "844f42f8",
   "metadata": {
    "papermill": {
     "duration": 0.055094,
     "end_time": "2024-09-14T17:33:43.169077",
     "exception": false,
     "start_time": "2024-09-14T17:33:43.113983",
     "status": "completed"
    },
    "tags": []
   },
   "source": [
    "## Visualisation"
   ]
  },
  {
   "cell_type": "code",
   "execution_count": 7,
   "id": "96f5342e",
   "metadata": {
    "execution": {
     "iopub.execute_input": "2024-09-14T17:33:43.280966Z",
     "iopub.status.busy": "2024-09-14T17:33:43.280250Z",
     "iopub.status.idle": "2024-09-14T17:33:43.290761Z",
     "shell.execute_reply": "2024-09-14T17:33:43.289536Z"
    },
    "papermill": {
     "duration": 0.069231,
     "end_time": "2024-09-14T17:33:43.292873",
     "exception": false,
     "start_time": "2024-09-14T17:33:43.223642",
     "status": "completed"
    },
    "tags": []
   },
   "outputs": [
    {
     "name": "stdout",
     "output_type": "stream",
     "text": [
      "Precision: 0.7350497111523712\n",
      "Recall: 0.6935483870967742\n"
     ]
    }
   ],
   "source": [
    "precision = precision_score(test_labels, y_pred_labels, average='weighted')\n",
    "recall = recall_score(test_labels, y_pred_labels, average='weighted')\n",
    "\n",
    "print(\"Precision:\", precision)\n",
    "print(\"Recall:\", recall)\n"
   ]
  },
  {
   "cell_type": "code",
   "execution_count": 8,
   "id": "ad05f16e",
   "metadata": {
    "execution": {
     "iopub.execute_input": "2024-09-14T17:33:43.405080Z",
     "iopub.status.busy": "2024-09-14T17:33:43.404764Z",
     "iopub.status.idle": "2024-09-14T17:33:50.895349Z",
     "shell.execute_reply": "2024-09-14T17:33:50.894393Z"
    },
    "papermill": {
     "duration": 7.549178,
     "end_time": "2024-09-14T17:33:50.897546",
     "exception": false,
     "start_time": "2024-09-14T17:33:43.348368",
     "status": "completed"
    },
    "tags": []
   },
   "outputs": [
    {
     "data": {
      "image/png": "[encoded data removed]",
      "text/plain": [
       "<Figure size 1000x800 with 1 Axes>"
      ]
     },
     "metadata": {},
     "output_type": "display_data"
    }
   ],
   "source": [
    "import matplotlib.pyplot as plt\n",
    "import seaborn as sns\n",
    "from sklearn.metrics import confusion_matrix\n",
    "\n",
    "conf_matrix = confusion_matrix(test_labels, y_pred_labels)\n",
    "plt.figure(figsize=(10, 8))\n",
    "sns.heatmap(conf_matrix, annot=True, cmap='Blues', fmt='g', cbar=False)\n",
    "plt.title('Confusion Matrix')\n",
    "plt.xlabel('Predicted')\n",
    "plt.ylabel('Actual')\n",
    "plt.show()\n"
   ]
  },
  {
   "cell_type": "code",
   "execution_count": 9,
   "id": "6d084491",
   "metadata": {
    "execution": {
     "iopub.execute_input": "2024-09-14T17:33:51.012108Z",
     "iopub.status.busy": "2024-09-14T17:33:51.011172Z",
     "iopub.status.idle": "2024-09-14T17:33:51.843713Z",
     "shell.execute_reply": "2024-09-14T17:33:51.842751Z"
    },
    "papermill": {
     "duration": 0.892392,
     "end_time": "2024-09-14T17:33:51.846042",
     "exception": false,
     "start_time": "2024-09-14T17:33:50.953650",
     "status": "completed"
    },
    "tags": []
   },
   "outputs": [
    {
     "name": "stdout",
     "output_type": "stream",
     "text": [
      "\u001b[1m1/1\u001b[0m \u001b[32m━━━━━━━━━━━━━━━━━━━━\u001b[0m\u001b[37m\u001b[0m \u001b[1m0s\u001b[0m 218ms/step\n"
     ]
    },
    {
     "data": {
      "image/png": "[encoded data removed]",
      "text/plain": [
       "<Figure size 1500x1000 with 6 Axes>"
      ]
     },
     "metadata": {},
     "output_type": "display_data"
    }
   ],
   "source": [
    "import random\n",
    "\n",
    "random_indices = random.sample(range(len(test_images)), 6)\n",
    "\n",
    "y_pred_probs = model.predict(test_images[random_indices])\n",
    "\n",
    "y_pred_labels = np.argmax(y_pred_probs, axis=1)\n",
    "\n",
    "y_pred_labels_decoded = Encoder.inverse_transform(y_pred_labels)\n",
    "\n",
    "y_true_labels_decoded = Encoder.inverse_transform(test_labels[random_indices])\n",
    "\n",
    "plt.figure(figsize=(15, 10))\n",
    "for i, idx in enumerate(random_indices):\n",
    "    plt.subplot(2, 3, i+1)\n",
    "    plt.imshow(test_images[idx])\n",
    "    plt.title(f'Predicted Label: {y_pred_labels_decoded[i]}, True Label: {y_true_labels_decoded[i]}')\n",
    "    plt.axis('off')\n",
    "plt.show()"
   ]
  },
  {
   "cell_type": "code",
   "execution_count": null,
   "id": "d0d89585",
   "metadata": {
    "papermill": {
     "duration": 0.055932,
     "end_time": "2024-09-14T17:33:51.959036",
     "exception": false,
     "start_time": "2024-09-14T17:33:51.903104",
     "status": "completed"
    },
    "tags": []
   },
   "outputs": [],
   "source": []
  }
 ],
 "metadata": {
  "kaggle": {
   "accelerator": "gpu",
   "dataSources": [
    {
     "datasetId": 1176843,
     "sourceId": 1972672,
     "sourceType": "datasetVersion"
    }
   ],
   "dockerImageVersionId": 30762,
   "isGpuEnabled": true,
   "isInternetEnabled": true,
   "language": "python",
   "sourceType": "notebook"
  },
  "kernelspec": {
   "display_name": "Python 3",
   "language": "python",
   "name": "python3"
  },
  "language_info": {
   "codemirror_mode": {
    "name": "ipython",
    "version": 3
   },
   "file_extension": ".py",
   "mimetype": "text/x-python",
   "name": "python",
   "nbconvert_exporter": "python",
   "pygments_lexer": "ipython3",
   "version": "3.10.14"
  },
  "papermill": {
   "default_parameters": {},
   "duration": 156.795742,
   "end_time": "2024-09-14T17:33:54.464419",
   "environment_variables": {},
   "exception": null,
   "input_path": "__notebook__.ipynb",
   "output_path": "__notebook__.ipynb",
   "parameters": {},
   "start_time": "2024-09-14T17:31:17.668677",
   "version": "2.6.0"
  }
 },
 "nbformat": 4,
 "nbformat_minor": 5
}
